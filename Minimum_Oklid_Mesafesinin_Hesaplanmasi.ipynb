{
 "cells": [
  {
   "cell_type": "code",
   "execution_count": null,
   "id": "8fa5ae1f",
   "metadata": {},
   "outputs": [],
   "source": []
  },
  {
   "cell_type": "code",
   "execution_count": 1,
   "id": "ea77aa73",
   "metadata": {},
   "outputs": [],
   "source": [
    "import math"
   ]
  },
  {
   "cell_type": "code",
   "execution_count": 18,
   "id": "087ed943",
   "metadata": {},
   "outputs": [],
   "source": [
    "points = [(3,2),(4,1),(12,8),(2,6)]"
   ]
  },
  {
   "cell_type": "code",
   "execution_count": 19,
   "id": "ce3c690d",
   "metadata": {},
   "outputs": [],
   "source": [
    "distances = []\n",
    "def euclideanDistance():#Argüman almadan hesaplama\n",
    "    distance = 0\n",
    "    for i in range(len(points)-1):\n",
    "        x1, y1 = points[i]\n",
    "        for j in range(i+1,len(points)):\n",
    "            x2,y2 = points[j]\n",
    "            distance = math.sqrt(pow((x2-x1),2)+pow((y2-y1),2))\n",
    "            distances.append(distance)      \n",
    "    return distances"
   ]
  },
  {
   "cell_type": "code",
   "execution_count": 20,
   "id": "26b3235b",
   "metadata": {},
   "outputs": [
    {
     "data": {
      "text/plain": [
       "[1.4142135623730951,\n",
       " 10.816653826391969,\n",
       " 4.123105625617661,\n",
       " 10.63014581273465,\n",
       " 5.385164807134504,\n",
       " 10.198039027185569]"
      ]
     },
     "execution_count": 20,
     "metadata": {},
     "output_type": "execute_result"
    }
   ],
   "source": [
    "distances_2 = euclideanDistance()\n",
    "distances_2"
   ]
  },
  {
   "cell_type": "code",
   "execution_count": 34,
   "id": "10117e35",
   "metadata": {},
   "outputs": [
    {
     "name": "stdout",
     "output_type": "stream",
     "text": [
      "nokta_1: (3, 7)\n",
      "------\n",
      "nokta_2:(4, 9)\n",
      " (x1,y1):(3, 7) ve (x2,y2):(4, 9) noktalarının mesafesi:2.23606797749979\n",
      "------\n",
      "nokta_2:(5, 8)\n",
      " (x1,y1):(3, 7) ve (x2,y2):(5, 8) noktalarının mesafesi:2.23606797749979\n",
      "------\n",
      "nokta_2:(2, 6)\n",
      " (x1,y1):(3, 7) ve (x2,y2):(2, 6) noktalarının mesafesi:1.4142135623730951\n",
      "nokta_1: (4, 9)\n",
      "------\n",
      "nokta_2:(5, 8)\n",
      " (x1,y1):(4, 9) ve (x2,y2):(5, 8) noktalarının mesafesi:1.4142135623730951\n",
      "------\n",
      "nokta_2:(2, 6)\n",
      " (x1,y1):(4, 9) ve (x2,y2):(2, 6) noktalarının mesafesi:3.605551275463989\n",
      "nokta_1: (5, 8)\n",
      "------\n",
      "nokta_2:(2, 6)\n",
      " (x1,y1):(5, 8) ve (x2,y2):(2, 6) noktalarının mesafesi:3.605551275463989\n"
     ]
    }
   ],
   "source": [
    "for i in range(len(points)-1):\n",
    "    x1, y1 = points[i]\n",
    "    print(f\"nokta_1: {x1,y1}\")\n",
    "    for j in range(i+1,len(points)):\n",
    "        x2,y2 = points[j]\n",
    "        print(\"------\")\n",
    "        print(f\"nokta_2:{x2,y2}\")\n",
    "        distance = math.sqrt(pow((x2-x1),2)+pow((y2-y1),2))\n",
    "        print(f\" (x1,y1):{x1,y1} ve (x2,y2):{x2,y2} noktalarının mesafesi:{distance}\")"
   ]
  },
  {
   "cell_type": "code",
   "execution_count": 21,
   "id": "08ba8ce7",
   "metadata": {},
   "outputs": [
    {
     "data": {
      "text/plain": [
       "[1.4142135623730951,\n",
       " 4.123105625617661,\n",
       " 5.385164807134504,\n",
       " 10.198039027185569,\n",
       " 10.63014581273465,\n",
       " 10.816653826391969]"
      ]
     },
     "execution_count": 21,
     "metadata": {},
     "output_type": "execute_result"
    }
   ],
   "source": [
    "distances_2.sort()\n",
    "distances_2"
   ]
  },
  {
   "cell_type": "code",
   "execution_count": null,
   "id": "68ad4d2e",
   "metadata": {},
   "outputs": [],
   "source": []
  },
  {
   "cell_type": "code",
   "execution_count": 13,
   "id": "e2889e17",
   "metadata": {},
   "outputs": [
    {
     "name": "stdout",
     "output_type": "stream",
     "text": [
      "[2, 3, 5, 7, 11]\n"
     ]
    }
   ],
   "source": [
    "prime_numbers = [11, 3, 7, 5, 2]\n",
    "\n",
    "# sort the list in ascending order\n",
    "prime_numbers.sort()\n",
    "\n",
    "print(prime_numbers)\n",
    "\n",
    "# Output: [2, 3, 5, 7, 11]"
   ]
  },
  {
   "cell_type": "code",
   "execution_count": null,
   "id": "11598690",
   "metadata": {},
   "outputs": [],
   "source": []
  },
  {
   "cell_type": "code",
   "execution_count": null,
   "id": "93346a0d",
   "metadata": {},
   "outputs": [],
   "source": []
  }
 ],
 "metadata": {
  "kernelspec": {
   "display_name": "Python 3 (ipykernel)",
   "language": "python",
   "name": "python3"
  },
  "language_info": {
   "codemirror_mode": {
    "name": "ipython",
    "version": 3
   },
   "file_extension": ".py",
   "mimetype": "text/x-python",
   "name": "python",
   "nbconvert_exporter": "python",
   "pygments_lexer": "ipython3",
   "version": "3.11.5"
  }
 },
 "nbformat": 4,
 "nbformat_minor": 5
}
